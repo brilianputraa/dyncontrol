{
  "nbformat": 4,
  "nbformat_minor": 0,
  "metadata": {
    "colab": {
      "name": "ODE Supplementary v1.ipynb",
      "provenance": [],
      "collapsed_sections": [],
      "authorship_tag": "ABX9TyNXb3a1baoh68JHHPOvHmsC",
      "include_colab_link": true
    },
    "kernelspec": {
      "name": "python3",
      "display_name": "Python 3"
    }
  },
  "cells": [
    {
      "cell_type": "markdown",
      "metadata": {
        "id": "view-in-github",
        "colab_type": "text"
      },
      "source": [
        "<a href=\"https://colab.research.google.com/github/brilianputraa/dyncontrol/blob/master/ODE/ODE_Supplementary_v1.ipynb\" target=\"_parent\"><img src=\"https://colab.research.google.com/assets/colab-badge.svg\" alt=\"Open In Colab\"/></a>"
      ]
    },
    {
      "cell_type": "code",
      "metadata": {
        "id": "i3sUibvBvC_g",
        "colab_type": "code",
        "colab": {}
      },
      "source": [
        "#@title Licensed under the Apache License, Version 2.0 (the \"License\");\n",
        "# you may not use this file except in compliance with the License.\n",
        "# You may obtain a copy of the License at\n",
        "#\n",
        "# https://www.apache.org/licenses/LICENSE-2.0\n",
        "#\n",
        "# Unless required by applicable law or agreed to in writing, software\n",
        "# distributed under the License is distributed on an \"AS IS\" BASIS,\n",
        "# WITHOUT WARRANTIES OR CONDITIONS OF ANY KIND, either express or implied.\n",
        "# See the License for the specific language governing permissions and\n",
        "# limitations under the License."
      ],
      "execution_count": 1,
      "outputs": []
    },
    {
      "cell_type": "markdown",
      "metadata": {
        "id": "WwxGQpY7VJr-",
        "colab_type": "text"
      },
      "source": [
        "# ODE Supplementary v1\n",
        "\n",
        "\n",
        "This notebook will provide the intuition about the use of Ordinary Differential Equation (ODE) on the Control Systems Field. Also gives refreshment about Numerical ODE topics which widely employed on Dynamical Systems and Control.\n",
        "\n",
        "\n",
        "github.com/brilianputraa/dyncontrol"
      ]
    },
    {
      "cell_type": "markdown",
      "metadata": {
        "id": "ea6hKFl2MiF-",
        "colab_type": "text"
      },
      "source": [
        "### Simple Cruise Control Systems\n",
        "Suppose we have very simple and straightforward first order linear system such as cruise control systems\n",
        "\n",
        "\n",
        "\n",
        "\n",
        "\n",
        "![alt text](http://ctms.engin.umich.edu/CTMS/Content/CruiseControl/System/Modeling/figures/cruise_control_schematic.png)\n",
        "\n",
        "\n",
        "\n",
        "Source : [Control Tutorials for MATLAB and Simulink, Michigan University](http://ctms.engin.umich.edu/CTMS/index.php?example=CruiseControl&section=SystemModeling)\n",
        "\n",
        "\n",
        "With the systems equations denoted below, \n",
        "\\begin{align}\n",
        "  m\\dot{v}+bv= u \n",
        "\\end{align}\n",
        "Since the aim of our system is to control the velocity so the output is (but in this occasion we don't control the systems, conversely we only simulate the dynamics)\n",
        "\n",
        "\\begin{align} y = v \\end{align} \n",
        "\n",
        "Where v is the vehicle velocity in (m/s), u is the control input force (N), m is the vehicle mass (kg), and b is the damping coefficient (Ns/m)\n",
        "\n",
        "Then, we can derive the state space equation for the system as\n",
        "\n",
        " \\begin{align} x = v \\end{align}\n",
        "\n",
        " \\begin{align} \\dot{v} = \\dot{x} \\end{align}\n",
        "\n",
        " \\begin{align} \\dot{x} = -\\frac{b}{m}x\\, + \\frac{1}{m} u \\end{align}\n",
        "\n",
        " \\begin{align} y = x \\end{align}\n",
        "\n",
        "So we get the state space matrix (in this case scalar because our system just first order system),\n",
        "\n",
        "$ A = -\\frac{b}{m}$\n",
        "\n",
        "$ B = \\frac{1}{m}$\n",
        "\n",
        "$ C = 1 $\n",
        "\n",
        "Assuming that our system have parameter below,\n",
        "\n",
        "$m = 1500\\, \\text{kg}$\n",
        "\n",
        "$b =  70\\, \\text{Ns/m}$"
      ]
    },
    {
      "cell_type": "markdown",
      "metadata": {
        "id": "SmKZ5jcuwLFr",
        "colab_type": "text"
      },
      "source": [
        "#### Cook Up the System State Space"
      ]
    },
    {
      "cell_type": "code",
      "metadata": {
        "id": "HpvAPszgiDjq",
        "colab_type": "code",
        "colab": {
          "base_uri": "https://localhost:8080/",
          "height": 181
        },
        "outputId": "a66d8d9b-4b04-4bf4-f262-b06e3a3eada6"
      },
      "source": [
        "import numpy as np\n",
        "from numpy.linalg import inv, eig\n",
        "import scipy\n",
        "import matplotlib.pyplot as plt\n",
        "\n",
        "# Plugging the parameter into the state space matrix, be obtained\n",
        "\n",
        "# Params\n",
        "m = 1500\n",
        "b = 70\n",
        "\n",
        "# State Space Matrix\n",
        "A = -np.array([[np.divide(b,m)]])\n",
        "B = np.divide(1,m)\n",
        "C = 1\n",
        "\n",
        "# Check the stability\n",
        "print(eig(np.dot(A, np.eye(A.shape[0])))),\n",
        "print('The System is stable because the eigenvalue is real negative')\n",
        "print()\n",
        "\n",
        "print(\"The State Space Matrix\"),\n",
        "print(f\"A : {A}\")\n",
        "print()\n",
        "print(f\"B : {B}\")\n",
        "print()\n",
        "print(f\"C : {C}\")\n",
        "\n",
        "# Okay in this case not matrix but it's scalar, but I often call it state space matrix"
      ],
      "execution_count": null,
      "outputs": [
        {
          "output_type": "stream",
          "text": [
            "(array([-0.04666667]), array([[1.]]))\n",
            "The System is stable because the eigenvalue is real negative\n",
            "\n",
            "The State Space Matrix\n",
            "A : [[-0.04666667]]\n",
            "\n",
            "B : 0.0006666666666666666\n",
            "\n",
            "C : 1\n"
          ],
          "name": "stdout"
        }
      ]
    },
    {
      "cell_type": "markdown",
      "metadata": {
        "id": "BN7qS2fGQ5v0",
        "colab_type": "text"
      },
      "source": [
        "### The Numerical Integration\n",
        "There are several ways to do a numerical integration for knowing the trajectory of our dynamical system, from the simplest one into the complex but wholly more accurate compared to the simple method.\n",
        "\n",
        "The list of numerical integration methods:\n",
        "\n",
        "\n",
        "1.   Forward Euler\n",
        "2.   Backward Euler\n",
        "3.   Runge Kutta 3rd Order (ODE23)\n",
        "4.   Runge Kutta 4th Order (ODE45)\n",
        "5.   Etcetera.\n",
        "\n",
        "There are comparison according to the accuracy of the integrator which state that ODE45 has best accuracy among the others, the error comparison can be seen below\n",
        "\n",
        "<img src=\"https://beltoforion.de/en/runge-kutta_vs_euler//images/analytic_accuracy_vs_stepsize.svg\" height = \"400\" width = \"400\" align=\"center\" />\n",
        "\n",
        "Source : [A Comparison of Numeric Integration Schemes, Beltoforion.de](https://beltoforion.de/article.php?a=runge-kutta_vs_euler&p=calculation_samples)\n",
        "\n",
        "So because of that factor ODE45 is vastly used on the numerical integration scheme of dynamical systems, though it only had order of 4th it is very well tuned algorithm."
      ]
    },
    {
      "cell_type": "markdown",
      "metadata": {
        "id": "eAW1kZKwMcTL",
        "colab_type": "text"
      },
      "source": [
        "#### 1. Forward Euler Method\n",
        " \\begin{align} X_{k+1} = X_k + X'_k * \\Delta_t \\end{align}\n",
        "\n",
        "Also we can write that equation as,\n",
        "\n",
        " \\begin{align} X_{k+1}=[I + \\Delta_tA]X_k \\end{align}"
      ]
    },
    {
      "cell_type": "code",
      "metadata": {
        "id": "Zg1fqv4geeRj",
        "colab_type": "code",
        "colab": {}
      },
      "source": [
        "def forward_euler(init_pos, steps, A, B, u):\n",
        "  nextstate = np.dot(np.eye(init_pos.shape[0]) + np.multiply(A + np.multiply(B, u), steps), init_pos) \n",
        "  return nextstate"
      ],
      "execution_count": null,
      "outputs": []
    },
    {
      "cell_type": "markdown",
      "metadata": {
        "id": "o3urRZXFX7qF",
        "colab_type": "text"
      },
      "source": [
        "#### 2. Backward Euler Method\n",
        " \\begin{align} X_{k+1} = X_k + X'_{k+1}*\\Delta_t \\end{align}\n",
        "\n",
        "Also we can write that equation as,\n",
        "\n",
        " \\begin{align} X_{k+1} = [I-\\Delta_tA]^{-1} X_k \\end{align}"
      ]
    },
    {
      "cell_type": "code",
      "metadata": {
        "id": "TJ_7YCNre4_K",
        "colab_type": "code",
        "colab": {}
      },
      "source": [
        "def backward_euler(init_pos, steps, A, B, u):\n",
        "  nextstate = np.dot(inv(np.eye(init_pos.shape[0]) - np.multiply(A + np.multiply(B,u), steps)), init_pos) \n",
        "  return nextstate"
      ],
      "execution_count": null,
      "outputs": []
    },
    {
      "cell_type": "markdown",
      "metadata": {
        "id": "M23nGB-AcxWE",
        "colab_type": "text"
      },
      "source": [
        "#### 3. Runge Kutta 3rd Order (ODE23)\n",
        " \\begin{align} X_{k+1} = X_k + \\frac{\\Delta_t}{6}[f_1+4f_2+f_3] \\end{align}\n",
        "\n",
        "Where,\n",
        "\n",
        " \\begin{align} f_1 = f(k, X_k) \\end{align} \n",
        "\n",
        " \\begin{align} f_2 = f(k + \\frac{\\Delta_t}{2}, X_k + \\frac{\\Delta_t}{2}f_1) \\end{align} \n",
        "\n",
        " \\begin{align} f_3 = f(k+ \\Delta_t, X_k+2f_1 -f_2) \\end{align} \n",
        "\n",
        "Caveat:\n",
        "Function f is your system function\n"
      ]
    },
    {
      "cell_type": "code",
      "metadata": {
        "id": "ptXXsSXoBq_N",
        "colab_type": "code",
        "colab": {}
      },
      "source": [
        "def sode23(time, steps, init_pos):\n",
        "  k = time\n",
        "  f1 = fun(k, init_pos)\n",
        "  f2 = fun(np.add(k, np.divide(steps, 2)), np.add(init_pos, np.multiply(np.divide(steps, 2), f1)))\n",
        "  f3 = fun(np.add(k, steps), np.add(init_pos, -f2, 2*f1))\n",
        "  nextstate = np.add(init_pos, np.multiply(steps/6, f1 + 4*f2 + f3))\n",
        "  return nextstate"
      ],
      "execution_count": null,
      "outputs": []
    },
    {
      "cell_type": "markdown",
      "metadata": {
        "id": "b7gquO-4BrNG",
        "colab_type": "text"
      },
      "source": [
        "#### 4. Runge Kutta 4th Order (ODE45)\n",
        "\\begin{align} X_{k+1} = X_k + \\frac{\\Delta_t}{6}[f_1+2f_2+2f_3+f_4] \\end{align}\n",
        "\n",
        "Where,\n",
        "\n",
        " \\begin{align} f_1 = f(k, X_k) \\end{align} \n",
        "\n",
        " \\begin{align} f_2 = f(k + \\frac{\\Delta_t}{2}, X_k + \\frac{\\Delta_t}{2}f_1) \\end{align} \n",
        "\n",
        " \\begin{align} f_3 = f(k + \\frac{\\Delta_t}{2}, X_k + \\frac{\\Delta_t}{2}f_2) \\end{align} \n",
        "\n",
        " \\begin{align} f_4 = f(k+ \\Delta_t,X_k + \\Delta_tf_3) \\end{align} "
      ]
    },
    {
      "cell_type": "code",
      "metadata": {
        "id": "Mqho3Vu9BrdO",
        "colab_type": "code",
        "colab": {}
      },
      "source": [
        "def sode45(time, steps, init_pos):\n",
        "  k = time\n",
        "  f1 = fun(k, init_pos)\n",
        "  f2 = fun(np.add(k, np.divide(steps, 2)), np.add(init_pos, np.multiply(np.divide(steps, 2), f1)))\n",
        "  f3 = fun(np.add(k, np.divide(steps, 2)), np.add(init_pos, np.multiply(np.divide(steps, 2), f2)))\n",
        "  f4 = fun(np.add(k, steps), np.add(init_pos, f3 * steps))\n",
        "  nextstate = np.add(init_pos, np.multiply(steps/6, f1 + 2*f2 + 2*f3 + f4))\n",
        "  return nextstate"
      ],
      "execution_count": null,
      "outputs": []
    },
    {
      "cell_type": "markdown",
      "metadata": {
        "id": "16OBNn36Brtb",
        "colab_type": "text"
      },
      "source": [
        "### Let's Do The Simulation"
      ]
    },
    {
      "cell_type": "code",
      "metadata": {
        "id": "yPtSI8BSsP8H",
        "colab_type": "code",
        "colab": {}
      },
      "source": [
        "## System function\n",
        "def fun(time, pos):\n",
        "    time = int(time)\n",
        "    dx = np.dot(A, pos) + np.dot(B, u[time])\n",
        "    return dx"
      ],
      "execution_count": null,
      "outputs": []
    },
    {
      "cell_type": "code",
      "metadata": {
        "id": "RbfoDiaTBt-G",
        "colab_type": "code",
        "colab": {
          "base_uri": "https://localhost:8080/",
          "height": 279
        },
        "outputId": "54e21aa5-60a7-4f97-ea4b-8c3c7ed82d1c"
      },
      "source": [
        "init_state = 10\n",
        "steps = 0.01 # Try to explore the algorithm by changing the step time\n",
        "T = 100 # Maximum simulation time\n",
        "totalsteps = int(T / steps) \n",
        "d = 1\n",
        "w = 2* np.pi \n",
        "t = np.linspace(0, T, totalsteps) # Simulation time\n",
        "u = np.heaviside(t, 1) # Step input\n",
        "x = np.array([[init_state]])\n",
        "xb = x\n",
        "xf = x \n",
        "xkd = x\n",
        "xkf = x\n",
        "\n",
        "## Forward Euler\n",
        "for k in range(0, t.shape[0]-1):\n",
        "  xf = np.concatenate((xf, forward_euler(xf[k,:].T, steps, A, B, u[k]).T.reshape(x.shape)), axis = 0)\n",
        "\n",
        "## Backward Euler\n",
        "for k in range(0, t.shape[0]-1):\n",
        "  xb = np.concatenate((xb, backward_euler(xb[k,:].T, steps, A, B, u[k]).T.reshape(x.shape)), axis = 0)\n",
        "\n",
        "## ODE23\n",
        "for k in range(0, t.shape[0]-1):\n",
        "  xkd = np.concatenate((xkd, sode23(k, steps, xkd[k,:].T).T.reshape(x.shape)), axis = 0)\n",
        "\n",
        "## ODE45\n",
        "for k in range(0, t.shape[0]-1):\n",
        "  xkf = np.concatenate((xkf, sode45(k, steps, xkf[k,:].T).T.reshape(x.shape)), axis = 0)\n",
        "\n",
        "xf = np.dot(xf, np.array(C).T)\n",
        "xb = np.dot(xb, np.array(C).T)\n",
        "xkd = np.dot(xkd, np.array(C).T)\n",
        "xkf = np.dot(xkf, np.array(C).T)\n",
        "\n",
        "plt.plot(t,xf, label = 'Forward Euler')\n",
        "plt.plot(t,xb, label = 'Backward Euler')\n",
        "plt.plot(t,xkd, label = 'ODE23')\n",
        "plt.plot(t,xkf, label = 'ODE45')\n",
        "plt.xlabel('Time (s)')\n",
        "plt.ylabel('Velocity')\n",
        "plt.legend(loc = 0)\n",
        "plt.show()"
      ],
      "execution_count": null,
      "outputs": [
        {
          "output_type": "display_data",
          "data": {
            "image/png": "[encoded data removed]",
            "text/plain": [
              "<Figure size 432x288 with 1 Axes>"
            ]
          },
          "metadata": {
            "tags": [],
            "needs_background": "light"
          }
        }
      ]
    },
    {
      "cell_type": "markdown",
      "metadata": {
        "id": "hO6uC-d0kam4",
        "colab_type": "text"
      },
      "source": [
        "It's looks like the system were converge to zero and that's great\n",
        "\n"
      ]
    }
  ]
}